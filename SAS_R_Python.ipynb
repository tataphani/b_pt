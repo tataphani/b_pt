{
  "nbformat": 4,
  "nbformat_minor": 0,
  "metadata": {
    "colab": {
      "name": "SAS_R_Python.ipynb",
      "provenance": [],
      "collapsed_sections": [],
      "toc_visible": true,
      "history_visible": true,
      "authorship_tag": "ABX9TyOM0GraxAOfBD9SXPowLNJ8",
      "include_colab_link": true
    },
    "kernelspec": {
      "name": "python3",
      "display_name": "Python 3"
    },
    "language_info": {
      "name": "python"
    }
  },
  "cells": [
    {
      "cell_type": "markdown",
      "metadata": {
        "id": "view-in-github",
        "colab_type": "text"
      },
      "source": [
        "<a href=\"https://colab.research.google.com/github/tataphani/b_pt/blob/master/SAS_R_Python.ipynb\" target=\"_parent\"><img src=\"https://colab.research.google.com/assets/colab-badge.svg\" alt=\"Open In Colab\"/></a>"
      ]
    },
    {
      "cell_type": "code",
      "source": [
        "! pip install saspy\n",
        "! pip install pyreadstat"
      ],
      "metadata": {
        "colab": {
          "base_uri": "https://localhost:8080/"
        },
        "id": "r8HcKh44bf1t",
        "outputId": "e1f49553-5679-46c8-dba5-4b7e4f87243f"
      },
      "execution_count": 84,
      "outputs": [
        {
          "output_type": "stream",
          "name": "stdout",
          "text": [
            "Requirement already satisfied: saspy in /usr/local/lib/python3.7/dist-packages (4.2.0)\n",
            "Collecting pyreadstat\n",
            "  Downloading pyreadstat-1.1.4-cp37-cp37m-manylinux_2_17_x86_64.manylinux2014_x86_64.whl (2.4 MB)\n",
            "\u001b[K     |████████████████████████████████| 2.4 MB 5.2 MB/s \n",
            "\u001b[?25hRequirement already satisfied: pandas>=1.2.0 in /usr/local/lib/python3.7/dist-packages (from pyreadstat) (1.3.5)\n",
            "Requirement already satisfied: python-dateutil>=2.7.3 in /usr/local/lib/python3.7/dist-packages (from pandas>=1.2.0->pyreadstat) (2.8.2)\n",
            "Requirement already satisfied: numpy>=1.17.3 in /usr/local/lib/python3.7/dist-packages (from pandas>=1.2.0->pyreadstat) (1.21.5)\n",
            "Requirement already satisfied: pytz>=2017.3 in /usr/local/lib/python3.7/dist-packages (from pandas>=1.2.0->pyreadstat) (2018.9)\n",
            "Requirement already satisfied: six>=1.5 in /usr/local/lib/python3.7/dist-packages (from python-dateutil>=2.7.3->pandas>=1.2.0->pyreadstat) (1.15.0)\n",
            "Installing collected packages: pyreadstat\n",
            "Successfully installed pyreadstat-1.1.4\n"
          ]
        }
      ]
    },
    {
      "cell_type": "code",
      "source": [
        "! which java"
      ],
      "metadata": {
        "colab": {
          "base_uri": "https://localhost:8080/"
        },
        "id": "jfWbUu03cG46",
        "outputId": "d7946928-5214-4c95-ab91-c76d0bdaadc6"
      },
      "execution_count": 21,
      "outputs": [
        {
          "output_type": "stream",
          "name": "stdout",
          "text": [
            "/usr/bin/java\n"
          ]
        }
      ]
    },
    {
      "cell_type": "code",
      "source": [
        "##First Import saspy using this then Enter the IOM user which is You can use either this user ID or your email address \n",
        "## (nkvsas4@gmail.com  Sas_R_Python_3),\n",
        "## along with your SAS Profile password, to sign in to SAS OnDemand for Academics:\n",
        "## https://welcome.oda.sas.com and user Login and then password is \n",
        "import saspy\n",
        "sas = saspy.SASsession(iomhost=['odaws01-usw2.oda.sas.com', 'odaws02-usw2.oda.sas.com',\n",
        " 'odaws03-usw2.oda.sas.com', 'odaws04-usw2.oda.sas.com'],\n",
        " java='/usr/bin/java', iomport=8591)"
      ],
      "metadata": {
        "colab": {
          "base_uri": "https://localhost:8080/"
        },
        "id": "aHZOyIg_cN-E",
        "outputId": "2ad6ed11-8519-4aba-b09b-4a0e5238686b"
      },
      "execution_count": 22,
      "outputs": [
        {
          "output_type": "stream",
          "name": "stdout",
          "text": [
            "Using SAS Config named: default\n",
            "Please enter the IOM user id: nkvsas4@gmail.com\n",
            "Please enter the password for IOM user : ··········\n",
            "SAS Connection established. Subprocess id is 3365\n",
            "\n"
          ]
        }
      ]
    },
    {
      "cell_type": "code",
      "source": [
        "import saspy\n",
        "import pandas as pd \n",
        "pd.set_option('display.max_columns' , None)\n",
        "\n",
        "import pyreadstat\n",
        "from IPython.display import HTML\n",
        "import numpy as np\n",
        "import warnings\n",
        "warnings.filterwarnings('ignore')"
      ],
      "metadata": {
        "id": "EMKByPHPO_JA"
      },
      "execution_count": 89,
      "outputs": []
    },
    {
      "cell_type": "code",
      "source": [
        "saspy.__version__"
      ],
      "metadata": {
        "id": "d5P20ED4XrNB"
      },
      "execution_count": null,
      "outputs": []
    },
    {
      "cell_type": "code",
      "source": [
        "#sas1 = saspy.SASsession()"
      ],
      "metadata": {
        "id": "sbcBCdTQXw7N"
      },
      "execution_count": null,
      "outputs": []
    },
    {
      "cell_type": "code",
      "source": [
        "## Mounting data from Google drive\n",
        "\n",
        "# Load the Drive helper and mount\n",
        "from google.colab import drive\n",
        "\n",
        "# This will prompt for authorization.\n",
        "drive.mount('/content/drive')"
      ],
      "metadata": {
        "id": "lbgyjQ8m2Bqe"
      },
      "execution_count": null,
      "outputs": []
    },
    {
      "cell_type": "code",
      "source": [
        "# After executing the cell above, Drive\n",
        "# files will be present in \"/content/drive/My Drive\".\n",
        "!ls \"/content/drive/My Drive\"\n",
        "!ls \"/content/drive/My Drive/datasets\"\n",
        "!ls \"/content/drive/My Drive/datasets/adsl.xpt\"\n",
        "!ls \"/content/drive/My Drive/datasets/ts.xpt\"\n",
        "!ls \"/content/drive/My Drive/datasets/adae.xpt\"\n",
        "!ls \"/content/drive/My Drive/datasets/adsl.sas7bdat\"\n",
        "!ls\"/content/drive/My Drive/datasets/ADaM_spec.xlsx\""
      ],
      "metadata": {
        "id": "j7RnpU6h3VGn",
        "colab": {
          "base_uri": "https://localhost:8080/"
        },
        "outputId": "8efebd73-0e66-4d90-c208-6746df066f47"
      },
      "execution_count": 50,
      "outputs": [
        {
          "output_type": "stream",
          "name": "stdout",
          "text": [
            "'Colab Notebooks'\t\t   'Feb R-Ladies Seattle Q&A.gdoc'\n",
            " Computer_desktop.zip\t\t   'Getting started.pdf'\n",
            " DataManipulationinR_beigners.pdf  'Help Center.gsite'\n",
            " datasets\t\t\t    my_documents_zip.rar\n",
            "adae.xpt\tadsl.xpt\t     remain\t\tts.xpt\n",
            "ADaM_spec.xlsx\tdm.xpt\t\t     SDTM_spec.xlsx\tts_xpt_r.xpt\n",
            "adsl.sas7bdat\tnew_head_ts_xpt.xpt  ts_sasdt.sas7bdat\n",
            "'/content/drive/My Drive/datasets/adsl.xpt'\n",
            "'/content/drive/My Drive/datasets/ts.xpt'\n",
            "'/content/drive/My Drive/datasets/adae.xpt'\n",
            "'/content/drive/My Drive/datasets/adsl.sas7bdat'\n",
            "/bin/bash: ls/content/drive/My Drive/datasets/ADaM_spec.xlsx: No such file or directory\n"
          ]
        }
      ]
    },
    {
      "cell_type": "markdown",
      "source": [
        "Way to load R into ipython"
      ],
      "metadata": {
        "id": "wjcW4Jlt8lnt"
      }
    },
    {
      "cell_type": "code",
      "source": [
        "## reading the .xpt files using the R language\n",
        "# activate R magic\n",
        "%load_ext rpy2.ipython\n",
        "\n",
        "##The rpy2.ipython extension is already loaded. To reload it, use:\n",
        "#%reload_ext rpy2.ipython"
      ],
      "metadata": {
        "id": "YOsphBYs9usk"
      },
      "execution_count": null,
      "outputs": []
    },
    {
      "cell_type": "code",
      "source": [
        "%%R\n",
        "install.packages(\"devtools\")\n",
        "install.packages('dplyr')\n",
        "install.packages('haven')\n",
        "install.packages('reticulate')\n",
        "install.packages('admiral') #Clinical datasets#\n",
        "install.packages(\"rio\")\n",
        "install.packages(\"SASxport\")"
      ],
      "metadata": {
        "id": "HcKg7OSK9Wxe"
      },
      "execution_count": null,
      "outputs": []
    },
    {
      "cell_type": "code",
      "source": [
        "\n"
      ],
      "metadata": {
        "id": "Ec1cL14dui5F"
      },
      "execution_count": null,
      "outputs": []
    },
    {
      "cell_type": "code",
      "source": [
        "%%R\n",
        "library(devtools)\n",
        "library(dplyr)\n",
        "library(admiral)\n",
        "library(rio)\n",
        "library(reticulate)\n",
        "library(dplyr)\n",
        "library(ggplot2)\n",
        "library(admiral)\n",
        "library(SASxport)"
      ],
      "metadata": {
        "id": "apkQOhtrtieU"
      },
      "execution_count": null,
      "outputs": []
    },
    {
      "cell_type": "code",
      "source": [
        "%%R\n",
        "#devtools::install_github(\"https://github.com/atorus-research/xportr.git\")\n",
        "#library(xportr) # https://github.com/atorus-research/xportr/blob/master/inst/specs/ADaM_spec.xlsx"
      ],
      "metadata": {
        "id": "7sjDNr9LWYAQ"
      },
      "execution_count": null,
      "outputs": []
    },
    {
      "cell_type": "code",
      "source": [
        "#@title Installing the packages if needed\n",
        "%%R\n",
        "if (file.exists(\"/usr/local/lib/python3.7/dist-packages/google/colab/_ipython.py\")) {\n",
        "  install.packages(\"R.utils\")\n",
        "  install.packages(\"rio\")\n",
        "  library(\"R.utils\")\n",
        "  library(\"httr\")\n",
        "  my_check <- function() {return(TRUE)}\n",
        "  reassignInPackage(\"is_interactive\", pkgName = \"httr\", my_check) \n",
        "  options(rlang_interactive=TRUE)\n",
        "}"
      ],
      "metadata": {
        "id": "F54bT8JKCof1"
      },
      "execution_count": null,
      "outputs": []
    },
    {
      "cell_type": "code",
      "source": [
        "# A bit of imports\n",
        "\n",
        "\n",
        "# Load in the r magic\n",
        "%reload_ext rpy2.ipython\n",
        "%config IPCompleter.greedy=True\n",
        "%config InlineBackend.figure_format = 'retina'\n"
      ],
      "metadata": {
        "id": "n8vL-XH-Yy5_"
      },
      "execution_count": 83,
      "outputs": []
    },
    {
      "cell_type": "markdown",
      "source": [
        ">>>>>>>>>>>>>>>>>>>>>>>>>>>>>>>>>>>>>>><\n",
        "\n"
      ],
      "metadata": {
        "id": "PchurtETrTyo"
      }
    },
    {
      "cell_type": "markdown",
      "source": [
        "### -----Lets make a simple SAS dataset------\n"
      ],
      "metadata": {
        "id": "Daw47hzr_K7-"
      }
    },
    {
      "cell_type": "code",
      "source": [
        "## First SAS program using sas.submitLST\n",
        "sas.submitLST('data a ; x = 1 ; run;proc print data = a ; run;' )"
      ],
      "metadata": {
        "id": "YbPvZqfwcv49"
      },
      "execution_count": null,
      "outputs": []
    },
    {
      "cell_type": "code",
      "source": [
        "sas.submitLST(\"data class ; set sashelp.class (obs = 5);  run; proc print data=class; run;\", method='listorlog') \n"
      ],
      "metadata": {
        "id": "r1nb8TM7elJ8"
      },
      "execution_count": null,
      "outputs": []
    },
    {
      "cell_type": "markdown",
      "source": [
        "##### To see how a SASDATA object to see PYTHON convention \n",
        "#####'?' in front of the funtion and see the DOCSTRING"
      ],
      "metadata": {
        "id": "vMB0Al-GalMJ"
      }
    },
    {
      "cell_type": "code",
      "source": [
        "?sas.sasdata"
      ],
      "metadata": {
        "id": "XdGx6zc9aZli"
      },
      "execution_count": 25,
      "outputs": []
    },
    {
      "cell_type": "markdown",
      "source": [
        "##### To see the source code PYTHON convention '??' in front of the funtion   "
      ],
      "metadata": {
        "id": "eS2uPE8bbE8d"
      }
    },
    {
      "cell_type": "code",
      "source": [
        "??sas.sasdata"
      ],
      "metadata": {
        "id": "oHrN7QAzcLyK"
      },
      "execution_count": null,
      "outputs": []
    },
    {
      "cell_type": "code",
      "source": [
        "?sas.submitLST(\"data class ; set sashelp.class (obs = 5);  run; proc print data=class; run;\", method='listorlog') \n"
      ],
      "metadata": {
        "id": "ida53kwAUFwe"
      },
      "execution_count": null,
      "outputs": []
    },
    {
      "cell_type": "markdown",
      "source": [
        "\n",
        "\n",
        "---\n",
        "\n",
        "\n",
        "#####Reading the external data using Python and input dataset for SASsession to use\n",
        "\n",
        "---\n",
        "\n"
      ],
      "metadata": {
        "id": "GlAdKi770WVf"
      }
    },
    {
      "cell_type": "code",
      "source": [
        "#import pandas as pd\n",
        "ad_sl = pd.read_csv(\"https://raw.githubusercontent.com/sas2r/clinical_fd/master/data-raw/inst/extdata/adsl.csv\")\n",
        "#ad_sl.head(ad_sl)\n",
        "sasdf = sas.df2sd(ad_sl , 'sasdf')"
      ],
      "metadata": {
        "id": "clYLygbgkcXE"
      },
      "execution_count": 26,
      "outputs": []
    },
    {
      "cell_type": "markdown",
      "source": [
        "##### Print first five observations of the SAS dataset"
      ],
      "metadata": {
        "id": "ypke7wMTi-CH"
      }
    },
    {
      "cell_type": "code",
      "source": [
        "sas.submitLST('proc print data = work.sasdf (obs = 5 keep = usubjid trt01p age visit1dt     rfstdtc     rfendtc  visnumen );run;', method='listorlog') "
      ],
      "metadata": {
        "id": "c4DB8Dhl2Jy3"
      },
      "execution_count": null,
      "outputs": []
    },
    {
      "cell_type": "markdown",
      "source": [
        "##### Create a simple statistics of age by treatment arm using SAS-listorlog- this is the default as of V3.6.5. returns the LST,unless it's empty, then it returns the LOG instead "
      ],
      "metadata": {
        "id": "pNzSbrp8jQL5"
      }
    },
    {
      "cell_type": "code",
      "source": [
        "sas.submitLST('proc means data = work.sasdf ; class trt01p ; Var age ;  run;', method='listorlog') "
      ],
      "metadata": {
        "id": "_KPQpUJDjjjk"
      },
      "execution_count": null,
      "outputs": []
    },
    {
      "cell_type": "code",
      "source": [
        "# Create a simple statistics of age by treatment arm using Python\n",
        "result = ad_sl.groupby('trt01p').agg({'age':[ 'mean', 'min', 'max']})\n",
        "print(result)"
      ],
      "metadata": {
        "id": "ziE8subwkA3_"
      },
      "execution_count": null,
      "outputs": []
    },
    {
      "cell_type": "markdown",
      "source": [
        "##### Reading the external data using **R rio package** "
      ],
      "metadata": {
        "id": "S-UPowJz033o"
      }
    },
    {
      "cell_type": "code",
      "source": [
        "%%R\n",
        "library(dplyr)\n",
        "library(rio)\n",
        "adsl_r <- rio::import (\"https://raw.githubusercontent.com/sas2r/clinical_fd/master/data-raw/inst/extdata/adsl.csv\")"
      ],
      "metadata": {
        "id": "q-0xUY3R55P8"
      },
      "execution_count": 31,
      "outputs": []
    },
    {
      "cell_type": "markdown",
      "source": [
        "##### Create a simple statistics of age by treatment arm using dPLYR"
      ],
      "metadata": {
        "id": "QM_ZfZLvkQpb"
      }
    },
    {
      "cell_type": "code",
      "source": [
        "# R way of creating the Basic statistics\n",
        "%%R\n",
        "summ_adsl_r  <- adsl_r %>%\n",
        "                group_by(trt01p) %>%\n",
        "                summarise (ave_age = mean(age , na.rm = TRUE),\n",
        "                           med_age = median (age , na.rm = TRUE),\n",
        "                           min_age = min(age , na.rm = TRUE),\n",
        "                           max_age = max(age , na.rm = TRUE)\n",
        "                            )\n",
        "summ_adsl_r   "
      ],
      "metadata": {
        "id": "MSZqgRk_vhyV"
      },
      "execution_count": null,
      "outputs": []
    },
    {
      "cell_type": "markdown",
      "source": [
        "##### Admiral package is an ADaM in R Asset Library, It has couple of ADS based datasets that can used just by calling admiral:: "
      ],
      "metadata": {
        "id": "oFFR0gr4lePG"
      }
    },
    {
      "cell_type": "code",
      "source": [
        "%%R\n",
        "#VISIT1DT  IS NOT AVAILABLE IN ADMIRAL DATASET\n",
        "names(admiral::adsl)\n",
        "adsl_r <- admiral::adsl  %>% \n",
        "          select(USUBJID,AGE,DTHFL,TRT01P,TRTSDTM , SAFFL) \n",
        "head(adsl_r)"
      ],
      "metadata": {
        "id": "VwSpmcZF6UD_"
      },
      "execution_count": null,
      "outputs": []
    },
    {
      "cell_type": "markdown",
      "source": [
        ">####### Read SAS .xpt files using SAS Proc Copy This does not work as it is creating sasdataset outside SAS Envirnoment. Work in progress for this chunck"
      ],
      "metadata": {
        "id": "eIeojRTKpU5K"
      }
    },
    {
      "cell_type": "code",
      "source": [
        "sas.submitLST(\"Libname xptfile xport '/content/drive/My Drive/datasets/adsl.xpt' ;\"\n",
        "              \"proc copy inlib = xptfile outlib = work ;  run;\"\n",
        "              ,\n",
        "              method='listorlog') "
      ],
      "metadata": {
        "id": "4LwtU-yBpSzT"
      },
      "execution_count": null,
      "outputs": []
    },
    {
      "cell_type": "markdown",
      "source": [
        ">>###### Read SAS .xpt files using python"
      ],
      "metadata": {
        "id": "Y8lNj-ouNAUv"
      }
    },
    {
      "cell_type": "code",
      "source": [
        "#import  pandas as pd\n",
        "read_adsl_xpt_using_py = pd.read_sas('/content/drive/My Drive/datasets/adsl.xpt')\n",
        "read_adsl_xpt_using_py.head()\n",
        "\n",
        "# Summary statistics of all the columns using describe \n",
        "#read_adsl_xpt_using_py.describe(include = ['float' , 'category'])  # Will give general statistics of the var\n"
      ],
      "metadata": {
        "id": "JEbvPX3_4kUV"
      },
      "execution_count": null,
      "outputs": []
    },
    {
      "cell_type": "markdown",
      "source": [
        ">>##### Read SAS .xpt files using R \n",
        "(RIO package is new universal data reader package) "
      ],
      "metadata": {
        "id": "uKlh9JVWnuZu"
      }
    },
    {
      "cell_type": "code",
      "source": [
        "%%R\n",
        "adsl_xpt_r <- rio::import(\"/content/drive/My Drive/datasets/adsl.xpt\")\n",
        "head(tibble(adsl_xpt_r))"
      ],
      "metadata": {
        "id": "nbzFGeOPnsb_"
      },
      "execution_count": null,
      "outputs": []
    },
    {
      "cell_type": "markdown",
      "source": [
        ">###### Way to read SAS dataset into R"
      ],
      "metadata": {
        "id": "tpJyCQ8nzEHI"
      }
    },
    {
      "cell_type": "code",
      "source": [
        "%%R\n",
        "adsl_atorus <- haven::read_sas(\"/content/drive/My Drive/datasets/adsl.sas7bdat\")\n",
        "head(adsl_atorus)"
      ],
      "metadata": {
        "id": "d80EpkORzCKJ"
      },
      "execution_count": null,
      "outputs": []
    },
    {
      "cell_type": "markdown",
      "source": [
        "### You can read .Xlsx file \n",
        "\n",
        "var_spec <- readxl::read_xlsx(\"/content/drive/My Drive/datasets/ADaM_spec.xlsx\", sheet = \"Variables\") %>%\n",
        "  dplyr::rename(type = \"Data Type\") %>%\n",
        "  rlang::set_names(tolower)\n",
        "\n",
        "  data_spec <- readxl::read_xlsx(\"/content/drive/My Drive/datasets/ADaM_spec.xlsx\", sheet = \"Datasets\") %>%\n",
        "  rlang::set_names(tolower) %>%\n",
        "  dplyr::rename(label = \"description\")\n"
      ],
      "metadata": {
        "id": "b7U3YkldzU4W"
      }
    },
    {
      "cell_type": "markdown",
      "source": [
        ">###### Creating R data frame "
      ],
      "metadata": {
        "id": "Q5Vi2Or829Lp"
      }
    },
    {
      "cell_type": "code",
      "source": [
        "%%R\n",
        "ts_xpt_r <- rio::import(\"/content/drive/My Drive/datasets/ts.xpt\")\n",
        "head_ts_xpt <- head(ts_xpt_r)"
      ],
      "metadata": {
        "id": "n-YnF6W222th"
      },
      "execution_count": 55,
      "outputs": []
    },
    {
      "cell_type": "markdown",
      "source": [
        ">##### Way to see how a data frame created dput"
      ],
      "metadata": {
        "id": "VlyrQ1-X4Yon"
      }
    },
    {
      "cell_type": "code",
      "source": [
        "%%R\n",
        "#dput(ts_xpt_r )\n",
        "#dput(head_ts_xpt ,control = c('keepNA' , 'keepInteger' , 'niceNames' , 'showAttributes'))\n",
        "## Way to Drop a variable\n",
        "new_head_ts_xpt <- head_ts_xpt %>%\n",
        "                   select(-STUDYID ) %>%\n",
        "                   mutate(LONG_DOM_AIN_NAME = DOMAIN) %>%\n",
        "                   relocate(LONG_DOM_AIN_NAME ,.before = DOMAIN)\n",
        "\n",
        "new_head_ts_xpt                   "
      ],
      "metadata": {
        "id": "GQfG9UCG22hw"
      },
      "execution_count": null,
      "outputs": []
    },
    {
      "cell_type": "markdown",
      "source": [
        ">##### Write it out a .Xpt file using SASxport, see the new variable NAME_OF_THE_DOMAIN (longer than 8 Char) SASxport default to V5\n"
      ],
      "metadata": {
        "id": "NezwivZXGwS0"
      }
    },
    {
      "cell_type": "code",
      "source": [
        "%%R\n",
        "write.xport (new_head_ts_xpt , file='/content/drive/MyDrive/datasets/ts_xpt_r.xpt')\n",
        "\n",
        "\n",
        "#Check if it is written right#\n",
        "ts_xpt_r <- rio::import(\"/content/drive/My Drive/datasets/ts_xpt_r.xpt\")\n",
        "ts_xpt_r"
      ],
      "metadata": {
        "id": "zlJf6jqA22Xm"
      },
      "execution_count": null,
      "outputs": []
    },
    {
      "cell_type": "markdown",
      "source": [
        ">##### Write out to .Xpt file using HAVEN package, see the new variable NAME_OF_THE_DOMAIN (longer than 8 Char) HAVEN package can used to write V8\n"
      ],
      "metadata": {
        "id": "OBAvgcVfMba4"
      }
    },
    {
      "cell_type": "code",
      "source": [
        "%%R\n",
        "tmp <- tempfile (fileext = \".xpt\")\n",
        "new_head_ts_xpt_long <- new_head_ts_xpt\n",
        "haven::write_xpt (new_head_ts_xpt_long , \"/content/drive/My Drive/datasets/new_head_ts_xpt_long.xpt\", \n",
        "                  version = 8 , \n",
        "                  name = NULL  )\n"
      ],
      "metadata": {
        "id": "lJ9p8CRg68yy"
      },
      "execution_count": 79,
      "outputs": []
    },
    {
      "cell_type": "code",
      "source": [
        "%%R\n",
        "tmp <- tempfile (fileext = \".xpt\")\n",
        "new_head_ts_xpt_long <- new_head_ts_xpt\n",
        "haven::write_xpt (new_head_ts_xpt_long , tmp, version = 8 , name = NULL  )\n",
        "haven::read_xpt(tmp)"
      ],
      "metadata": {
        "colab": {
          "base_uri": "https://localhost:8080/"
        },
        "id": "VXOucOv1-n1b",
        "outputId": "cbdf0520-4755-4ff6-9437-4de0ff787de1"
      },
      "execution_count": 80,
      "outputs": [
        {
          "output_type": "stream",
          "name": "stdout",
          "text": [
            "# A tibble: 6 × 6\n",
            "  LONG_DOM_AIN_NAME DOMAIN TSSEQ TSPARMCD TSPARM                          TSVAL \n",
            "  <chr>             <chr>  <dbl> <chr>    <chr>                           <chr> \n",
            "1 TS                TS         1 ADDON    Added on to Existing Treatments Y     \n",
            "2 TS                TS         1 AGEMAX   Planned Maximum Age of Subjects No ma…\n",
            "3 TS                TS         1 AGEMIN   Planned Minimum Age of Subjects 50 ye…\n",
            "4 TS                TS         1 AGESPAN  Age Group                       ADULT…\n",
            "5 TS                TS         2 AGESPAN  Age Group                       ELDER…\n",
            "6 TS                TS         1 TBLIND   Trial Blinding Schema           DOUBL…\n"
          ]
        }
      ]
    },
    {
      "cell_type": "code",
      "source": [
        "%%R\n",
        "ts_xpt_r <- rio::import(\"/content/drive/My Drive/datasets/new_head_ts_xpt_long.xpt\")\n",
        "ts_xpt_r"
      ],
      "metadata": {
        "id": "scEvLUCO-nxx"
      },
      "execution_count": null,
      "outputs": []
    },
    {
      "cell_type": "markdown",
      "source": [
        "> ###### Writing .XPT file using Pandas write_xport( ) function "
      ],
      "metadata": {
        "id": "YTzee5OCJAPp"
      }
    },
    {
      "cell_type": "code",
      "source": [
        "ts_xpt_using_py = pd.read_sas('/content/drive/My Drive/datasets/ts.xpt')\n",
        "pd_data = pd.DataFrame(ts_xpt_using_py.head())\n",
        "##Rename the columns\n",
        " \n",
        "#pd_data.assign(LONG_DOM_AIN_NAME = pd_data['DOMAIN'] )\n",
        "pd_data['LONG_DOM_AIN_NAME'] = pd_data['DOMAIN'] \n",
        "print(pd_data )\n",
        "pd.set_option (\"display.max_columns\" , None)\n",
        "pd.set_option (\"display.max_rows\" , None)"
      ],
      "metadata": {
        "id": "VpsvUVxA-nnF",
        "colab": {
          "base_uri": "https://localhost:8080/"
        },
        "outputId": "79f5d852-352c-4875-a3b2-9331d9affb87"
      },
      "execution_count": 116,
      "outputs": [
        {
          "output_type": "stream",
          "name": "stdout",
          "text": [
            "           STUDYID DOMAIN  TSSEQ    TSPARMCD  \\\n",
            "0  b'CDISCPILOT01'  b'TS'    1.0    b'ADDON'   \n",
            "1  b'CDISCPILOT01'  b'TS'    1.0   b'AGEMAX'   \n",
            "2  b'CDISCPILOT01'  b'TS'    1.0   b'AGEMIN'   \n",
            "3  b'CDISCPILOT01'  b'TS'    1.0  b'AGESPAN'   \n",
            "4  b'CDISCPILOT01'  b'TS'    2.0  b'AGESPAN'   \n",
            "\n",
            "                               TSPARM              TSVAL LONG_DOM_AIN_NAME  \n",
            "0  b'Added on to Existing Treatments'               b'Y'             b'TS'  \n",
            "1  b'Planned Maximum Age of Subjects'      b'No maximum'             b'TS'  \n",
            "2  b'Planned Minimum Age of Subjects'        b'50 years'             b'TS'  \n",
            "3                        b'Age Group'   b'ADULT (18-65)'             b'TS'  \n",
            "4                        b'Age Group'  b'ELDERLY (> 65)'             b'TS'  \n"
          ]
        }
      ]
    },
    {
      "cell_type": "code",
      "source": [
        "### Writing it out as .XPT file \n",
        "path = \"/content/drive/My Drive/datasets/ts_xpt_write_py_long.xpt\" \n",
        "pyreadstat.write_xport(pd_data , path)\n",
        "\n",
        "ts_xpt_using_py_short = ts_xpt_using_py.head()\n",
        "path = \"/content/drive/My Drive/datasets/ts_xpt_using_py_short.xpt\" \n",
        "pyreadstat.write_xport(ts_xpt_using_py_short , path)\n"
      ],
      "metadata": {
        "id": "YQbSKKtzV9ke"
      },
      "execution_count": 121,
      "outputs": []
    },
    {
      "cell_type": "code",
      "source": [
        "read_ts_xpt_using_py_long = pd.read_sas('/content/drive/My Drive/datasets/ts_xpt_write_py_long.xpt')\n",
        "print(read_ts_xpt_using_py_long)\n"
      ],
      "metadata": {
        "id": "FURDmX7t-njK"
      },
      "execution_count": null,
      "outputs": []
    },
    {
      "cell_type": "code",
      "source": [
        "read_ts_xpt_using_py_short = pd.read_sas('/content/drive/My Drive/datasets/ts_xpt_using_py_short.xpt')\n",
        "print(read_ts_xpt_using_py_short)\n"
      ],
      "metadata": {
        "id": "CKYGkgWl-nZz",
        "colab": {
          "base_uri": "https://localhost:8080/",
          "height": 364
        },
        "outputId": "caa13954-1629-4ab1-b952-5459dd769489"
      },
      "execution_count": 124,
      "outputs": [
        {
          "output_type": "error",
          "ename": "ValueError",
          "evalue": "ignored",
          "traceback": [
            "\u001b[0;31m---------------------------------------------------------------------------\u001b[0m",
            "\u001b[0;31mValueError\u001b[0m                                Traceback (most recent call last)",
            "\u001b[0;32m<ipython-input-124-b89ebcb43fb2>\u001b[0m in \u001b[0;36m<module>\u001b[0;34m()\u001b[0m\n\u001b[1;32m      1\u001b[0m \u001b[0;34m\u001b[0m\u001b[0m\n\u001b[0;32m----> 2\u001b[0;31m \u001b[0mread_ts_xpt_using_py_short\u001b[0m \u001b[0;34m=\u001b[0m \u001b[0mpd\u001b[0m\u001b[0;34m.\u001b[0m\u001b[0mread_sas\u001b[0m\u001b[0;34m(\u001b[0m\u001b[0;34m'/content/drive/My Drive/datasets/ts_xpt_using_py_short.xpt'\u001b[0m\u001b[0;34m)\u001b[0m\u001b[0;34m\u001b[0m\u001b[0;34m\u001b[0m\u001b[0m\n\u001b[0m\u001b[1;32m      3\u001b[0m \u001b[0mprint\u001b[0m\u001b[0;34m(\u001b[0m\u001b[0mread_ts_xpt_using_py_short\u001b[0m\u001b[0;34m)\u001b[0m\u001b[0;34m\u001b[0m\u001b[0;34m\u001b[0m\u001b[0m\n",
            "\u001b[0;32m/usr/local/lib/python3.7/dist-packages/pandas/io/sas/sasreader.py\u001b[0m in \u001b[0;36mread_sas\u001b[0;34m(filepath_or_buffer, format, index, encoding, chunksize, iterator)\u001b[0m\n\u001b[1;32m    141\u001b[0m             \u001b[0mindex\u001b[0m\u001b[0;34m=\u001b[0m\u001b[0mindex\u001b[0m\u001b[0;34m,\u001b[0m\u001b[0;34m\u001b[0m\u001b[0;34m\u001b[0m\u001b[0m\n\u001b[1;32m    142\u001b[0m             \u001b[0mencoding\u001b[0m\u001b[0;34m=\u001b[0m\u001b[0mencoding\u001b[0m\u001b[0;34m,\u001b[0m\u001b[0;34m\u001b[0m\u001b[0;34m\u001b[0m\u001b[0m\n\u001b[0;32m--> 143\u001b[0;31m             \u001b[0mchunksize\u001b[0m\u001b[0;34m=\u001b[0m\u001b[0mchunksize\u001b[0m\u001b[0;34m,\u001b[0m\u001b[0;34m\u001b[0m\u001b[0;34m\u001b[0m\u001b[0m\n\u001b[0m\u001b[1;32m    144\u001b[0m         )\n\u001b[1;32m    145\u001b[0m     \u001b[0;32melif\u001b[0m \u001b[0mformat\u001b[0m\u001b[0;34m.\u001b[0m\u001b[0mlower\u001b[0m\u001b[0;34m(\u001b[0m\u001b[0;34m)\u001b[0m \u001b[0;34m==\u001b[0m \u001b[0;34m\"sas7bdat\"\u001b[0m\u001b[0;34m:\u001b[0m\u001b[0;34m\u001b[0m\u001b[0;34m\u001b[0m\u001b[0m\n",
            "\u001b[0;32m/usr/local/lib/python3.7/dist-packages/pandas/io/sas/sas_xport.py\u001b[0m in \u001b[0;36m__init__\u001b[0;34m(self, filepath_or_buffer, index, encoding, chunksize)\u001b[0m\n\u001b[1;32m    263\u001b[0m \u001b[0;34m\u001b[0m\u001b[0m\n\u001b[1;32m    264\u001b[0m         \u001b[0;32mtry\u001b[0m\u001b[0;34m:\u001b[0m\u001b[0;34m\u001b[0m\u001b[0;34m\u001b[0m\u001b[0m\n\u001b[0;32m--> 265\u001b[0;31m             \u001b[0mself\u001b[0m\u001b[0;34m.\u001b[0m\u001b[0m_read_header\u001b[0m\u001b[0;34m(\u001b[0m\u001b[0;34m)\u001b[0m\u001b[0;34m\u001b[0m\u001b[0;34m\u001b[0m\u001b[0m\n\u001b[0m\u001b[1;32m    266\u001b[0m         \u001b[0;32mexcept\u001b[0m \u001b[0mException\u001b[0m\u001b[0;34m:\u001b[0m\u001b[0;34m\u001b[0m\u001b[0;34m\u001b[0m\u001b[0m\n\u001b[1;32m    267\u001b[0m             \u001b[0mself\u001b[0m\u001b[0;34m.\u001b[0m\u001b[0mclose\u001b[0m\u001b[0;34m(\u001b[0m\u001b[0;34m)\u001b[0m\u001b[0;34m\u001b[0m\u001b[0;34m\u001b[0m\u001b[0m\n",
            "\u001b[0;32m/usr/local/lib/python3.7/dist-packages/pandas/io/sas/sas_xport.py\u001b[0m in \u001b[0;36m_read_header\u001b[0;34m(self)\u001b[0m\n\u001b[1;32m    280\u001b[0m         \u001b[0mline1\u001b[0m \u001b[0;34m=\u001b[0m \u001b[0mself\u001b[0m\u001b[0;34m.\u001b[0m\u001b[0m_get_row\u001b[0m\u001b[0;34m(\u001b[0m\u001b[0;34m)\u001b[0m\u001b[0;34m\u001b[0m\u001b[0;34m\u001b[0m\u001b[0m\n\u001b[1;32m    281\u001b[0m         \u001b[0;32mif\u001b[0m \u001b[0mline1\u001b[0m \u001b[0;34m!=\u001b[0m \u001b[0m_correct_line1\u001b[0m\u001b[0;34m:\u001b[0m\u001b[0;34m\u001b[0m\u001b[0;34m\u001b[0m\u001b[0m\n\u001b[0;32m--> 282\u001b[0;31m             \u001b[0;32mraise\u001b[0m \u001b[0mValueError\u001b[0m\u001b[0;34m(\u001b[0m\u001b[0;34m\"Header record is not an XPORT file.\"\u001b[0m\u001b[0;34m)\u001b[0m\u001b[0;34m\u001b[0m\u001b[0;34m\u001b[0m\u001b[0m\n\u001b[0m\u001b[1;32m    283\u001b[0m \u001b[0;34m\u001b[0m\u001b[0m\n\u001b[1;32m    284\u001b[0m         \u001b[0mline2\u001b[0m \u001b[0;34m=\u001b[0m \u001b[0mself\u001b[0m\u001b[0;34m.\u001b[0m\u001b[0m_get_row\u001b[0m\u001b[0;34m(\u001b[0m\u001b[0;34m)\u001b[0m\u001b[0;34m\u001b[0m\u001b[0;34m\u001b[0m\u001b[0m\n",
            "\u001b[0;31mValueError\u001b[0m: Header record is not an XPORT file."
          ]
        }
      ]
    },
    {
      "cell_type": "code",
      "source": [
        ""
      ],
      "metadata": {
        "id": "S79Ly1q4FzYK"
      },
      "execution_count": 59,
      "outputs": []
    },
    {
      "cell_type": "code",
      "source": [
        ""
      ],
      "metadata": {
        "id": "_xPQmadPFysh"
      },
      "execution_count": 59,
      "outputs": []
    },
    {
      "cell_type": "markdown",
      "source": [
        ""
      ],
      "metadata": {
        "id": "NYyFWcSYFy8c"
      }
    },
    {
      "cell_type": "code",
      "source": [
        ""
      ],
      "metadata": {
        "id": "WYR5gfYRFyVe"
      },
      "execution_count": 59,
      "outputs": []
    },
    {
      "cell_type": "code",
      "source": [
        ""
      ],
      "metadata": {
        "id": "0lrj-u5zFyGC"
      },
      "execution_count": 59,
      "outputs": []
    },
    {
      "cell_type": "code",
      "source": [
        ""
      ],
      "metadata": {
        "id": "lkk2t-zhFxxC"
      },
      "execution_count": 59,
      "outputs": []
    },
    {
      "cell_type": "markdown",
      "source": [
        ""
      ],
      "metadata": {
        "id": "acu0_MuoFxRi"
      }
    },
    {
      "cell_type": "markdown",
      "source": [
        ""
      ],
      "metadata": {
        "id": "2RgeimhiFxFv"
      }
    },
    {
      "cell_type": "code",
      "source": [
        ""
      ],
      "metadata": {
        "id": "lRs4DVLX-nQH"
      },
      "execution_count": 59,
      "outputs": []
    },
    {
      "cell_type": "markdown",
      "source": [
        "The above is new code that is working"
      ],
      "metadata": {
        "id": "CQwpbRuB64XY"
      }
    },
    {
      "cell_type": "code",
      "source": [
        "%%R\n",
        "df1 = c(5, 3, 3)\n",
        "df2 = c(1, 3, 4)"
      ],
      "metadata": {
        "id": "1Vo9_ynLa0uQ"
      },
      "execution_count": 60,
      "outputs": []
    },
    {
      "cell_type": "code",
      "source": [
        "%R -o df1 -o df2"
      ],
      "metadata": {
        "id": "Wis9Y5ATbE-w"
      },
      "execution_count": 61,
      "outputs": []
    },
    {
      "cell_type": "code",
      "source": [
        "%%R\n",
        "install.packages('reticulate')\n",
        "library(reticulate)\n",
        "#install.packages(\"googledrive\")\n",
        "#library(\"googledrive\")\n",
        "#drive_find()"
      ],
      "metadata": {
        "id": "RTNGRc1OB7Lw"
      },
      "execution_count": null,
      "outputs": []
    },
    {
      "cell_type": "code",
      "source": [
        ""
      ],
      "metadata": {
        "id": "yGWBm8znX4pV"
      },
      "execution_count": 62,
      "outputs": []
    },
    {
      "cell_type": "code",
      "source": [
        "# If ts not available we need to install . put other packages if you need.\n",
        "%%R\n",
        "packages <- c(\"googledrive\", \"googlesheets4\")\n",
        "if (length(setdiff(packages, rownames(installed.packages()))) > 0) {\n",
        "  install.packages(setdiff(packages, rownames(installed.packages())))  \n",
        "}"
      ],
      "metadata": {
        "id": "Cix5h1txJOTd"
      },
      "execution_count": 63,
      "outputs": []
    },
    {
      "cell_type": "code",
      "source": [
        "%%R\n",
        "library(\"googledrive\")\n",
        "library(\"googlesheets4\")"
      ],
      "metadata": {
        "id": "ChjHYnLSQSg4",
        "colab": {
          "base_uri": "https://localhost:8080/"
        },
        "outputId": "9c5005cb-1b07-455a-fb4f-14fcef0099a5"
      },
      "execution_count": 64,
      "outputs": [
        {
          "output_type": "stream",
          "name": "stderr",
          "text": [
            "WARNING:rpy2.rinterface_lib.callbacks:R[write to console]: \n",
            "Attaching package: ‘googlesheets4’\n",
            "\n",
            "\n",
            "WARNING:rpy2.rinterface_lib.callbacks:R[write to console]: The following objects are masked from ‘package:googledrive’:\n",
            "\n",
            "    request_generate, request_make\n",
            "\n",
            "\n"
          ]
        }
      ]
    },
    {
      "cell_type": "code",
      "source": [
        "# Find Google Sheets anf get the id of the first sheet \n",
        "%%R\n",
        "#library(\"googledrive\")\n",
        "# drive_find(type = \"xpt\" )\n"
      ],
      "metadata": {
        "id": "c8T5aAMqRsEE",
        "colab": {
          "base_uri": "https://localhost:8080/"
        },
        "outputId": "842299a2-ae1a-491e-b6df-9b7fcbdc60ab"
      },
      "execution_count": 65,
      "outputs": [
        {
          "output_type": "stream",
          "name": "stdout",
          "text": [
            "NULL\n"
          ]
        }
      ]
    },
    {
      "cell_type": "code",
      "source": [
        "%%R\n",
        "adsl <- read_xpt('/content/drive/My Drive/datasets/adsl.xpt')"
      ],
      "metadata": {
        "id": "U06RF-2P9HQF",
        "colab": {
          "base_uri": "https://localhost:8080/",
          "height": 679
        },
        "outputId": "42481ea9-cb35-473c-b35f-e83cbf08ab8b"
      },
      "execution_count": 67,
      "outputs": [
        {
          "output_type": "stream",
          "name": "stderr",
          "text": [
            "WARNING:rpy2.rinterface_lib.callbacks:R[write to console]: Error in read_xpt(\"/content/drive/My Drive/datasets/adsl.xpt\") : \n",
            "  could not find function \"read_xpt\"\n",
            "\n"
          ]
        },
        {
          "output_type": "stream",
          "name": "stdout",
          "text": [
            "\n",
            "Error in read_xpt(\"/content/drive/My Drive/datasets/adsl.xpt\") : \n",
            "  could not find function \"read_xpt\"\n"
          ]
        },
        {
          "output_type": "error",
          "ename": "RInterpreterError",
          "evalue": "ignored",
          "traceback": [
            "\u001b[0;31m---------------------------------------------------------------------------\u001b[0m",
            "\u001b[0;31mRRuntimeError\u001b[0m                             Traceback (most recent call last)",
            "\u001b[0;32m/usr/local/lib/python3.7/dist-packages/rpy2/ipython/rmagic.py\u001b[0m in \u001b[0;36meval\u001b[0;34m(self, code)\u001b[0m\n\u001b[1;32m    267\u001b[0m                 \u001b[0;31m# Need the newline in case the last line in code is a comment.\u001b[0m\u001b[0;34m\u001b[0m\u001b[0;34m\u001b[0m\u001b[0;34m\u001b[0m\u001b[0m\n\u001b[0;32m--> 268\u001b[0;31m                 \u001b[0mvalue\u001b[0m\u001b[0;34m,\u001b[0m \u001b[0mvisible\u001b[0m \u001b[0;34m=\u001b[0m \u001b[0mro\u001b[0m\u001b[0;34m.\u001b[0m\u001b[0mr\u001b[0m\u001b[0;34m(\u001b[0m\u001b[0;34m\"withVisible({%s\\n})\"\u001b[0m \u001b[0;34m%\u001b[0m \u001b[0mcode\u001b[0m\u001b[0;34m)\u001b[0m\u001b[0;34m\u001b[0m\u001b[0;34m\u001b[0m\u001b[0m\n\u001b[0m\u001b[1;32m    269\u001b[0m             \u001b[0;32mexcept\u001b[0m \u001b[0;34m(\u001b[0m\u001b[0mri\u001b[0m\u001b[0;34m.\u001b[0m\u001b[0membedded\u001b[0m\u001b[0;34m.\u001b[0m\u001b[0mRRuntimeError\u001b[0m\u001b[0;34m,\u001b[0m \u001b[0mValueError\u001b[0m\u001b[0;34m)\u001b[0m \u001b[0;32mas\u001b[0m \u001b[0mexception\u001b[0m\u001b[0;34m:\u001b[0m\u001b[0;34m\u001b[0m\u001b[0;34m\u001b[0m\u001b[0m\n",
            "\u001b[0;32m/usr/local/lib/python3.7/dist-packages/rpy2/robjects/__init__.py\u001b[0m in \u001b[0;36m__call__\u001b[0;34m(self, string)\u001b[0m\n\u001b[1;32m    437\u001b[0m         \u001b[0mp\u001b[0m \u001b[0;34m=\u001b[0m \u001b[0mrinterface\u001b[0m\u001b[0;34m.\u001b[0m\u001b[0mparse\u001b[0m\u001b[0;34m(\u001b[0m\u001b[0mstring\u001b[0m\u001b[0;34m)\u001b[0m\u001b[0;34m\u001b[0m\u001b[0;34m\u001b[0m\u001b[0m\n\u001b[0;32m--> 438\u001b[0;31m         \u001b[0mres\u001b[0m \u001b[0;34m=\u001b[0m \u001b[0mself\u001b[0m\u001b[0;34m.\u001b[0m\u001b[0meval\u001b[0m\u001b[0;34m(\u001b[0m\u001b[0mp\u001b[0m\u001b[0;34m)\u001b[0m\u001b[0;34m\u001b[0m\u001b[0;34m\u001b[0m\u001b[0m\n\u001b[0m\u001b[1;32m    439\u001b[0m         \u001b[0;32mreturn\u001b[0m \u001b[0mconversion\u001b[0m\u001b[0;34m.\u001b[0m\u001b[0mrpy2py\u001b[0m\u001b[0;34m(\u001b[0m\u001b[0mres\u001b[0m\u001b[0;34m)\u001b[0m\u001b[0;34m\u001b[0m\u001b[0;34m\u001b[0m\u001b[0m\n",
            "\u001b[0;32m/usr/local/lib/python3.7/dist-packages/rpy2/robjects/functions.py\u001b[0m in \u001b[0;36m__call__\u001b[0;34m(self, *args, **kwargs)\u001b[0m\n\u001b[1;32m    198\u001b[0m         return (super(SignatureTranslatedFunction, self)\n\u001b[0;32m--> 199\u001b[0;31m                 .__call__(*args, **kwargs))\n\u001b[0m\u001b[1;32m    200\u001b[0m \u001b[0;34m\u001b[0m\u001b[0m\n",
            "\u001b[0;32m/usr/local/lib/python3.7/dist-packages/rpy2/robjects/functions.py\u001b[0m in \u001b[0;36m__call__\u001b[0;34m(self, *args, **kwargs)\u001b[0m\n\u001b[1;32m    124\u001b[0m                 \u001b[0mnew_kwargs\u001b[0m\u001b[0;34m[\u001b[0m\u001b[0mk\u001b[0m\u001b[0;34m]\u001b[0m \u001b[0;34m=\u001b[0m \u001b[0mconversion\u001b[0m\u001b[0;34m.\u001b[0m\u001b[0mpy2rpy\u001b[0m\u001b[0;34m(\u001b[0m\u001b[0mv\u001b[0m\u001b[0;34m)\u001b[0m\u001b[0;34m\u001b[0m\u001b[0;34m\u001b[0m\u001b[0m\n\u001b[0;32m--> 125\u001b[0;31m         \u001b[0mres\u001b[0m \u001b[0;34m=\u001b[0m \u001b[0msuper\u001b[0m\u001b[0;34m(\u001b[0m\u001b[0mFunction\u001b[0m\u001b[0;34m,\u001b[0m \u001b[0mself\u001b[0m\u001b[0;34m)\u001b[0m\u001b[0;34m.\u001b[0m\u001b[0m__call__\u001b[0m\u001b[0;34m(\u001b[0m\u001b[0;34m*\u001b[0m\u001b[0mnew_args\u001b[0m\u001b[0;34m,\u001b[0m \u001b[0;34m**\u001b[0m\u001b[0mnew_kwargs\u001b[0m\u001b[0;34m)\u001b[0m\u001b[0;34m\u001b[0m\u001b[0;34m\u001b[0m\u001b[0m\n\u001b[0m\u001b[1;32m    126\u001b[0m         \u001b[0mres\u001b[0m \u001b[0;34m=\u001b[0m \u001b[0mconversion\u001b[0m\u001b[0;34m.\u001b[0m\u001b[0mrpy2py\u001b[0m\u001b[0;34m(\u001b[0m\u001b[0mres\u001b[0m\u001b[0;34m)\u001b[0m\u001b[0;34m\u001b[0m\u001b[0;34m\u001b[0m\u001b[0m\n",
            "\u001b[0;32m/usr/local/lib/python3.7/dist-packages/rpy2/rinterface_lib/conversion.py\u001b[0m in \u001b[0;36m_\u001b[0;34m(*args, **kwargs)\u001b[0m\n\u001b[1;32m     44\u001b[0m     \u001b[0;32mdef\u001b[0m \u001b[0m_\u001b[0m\u001b[0;34m(\u001b[0m\u001b[0;34m*\u001b[0m\u001b[0margs\u001b[0m\u001b[0;34m,\u001b[0m \u001b[0;34m**\u001b[0m\u001b[0mkwargs\u001b[0m\u001b[0;34m)\u001b[0m\u001b[0;34m:\u001b[0m\u001b[0;34m\u001b[0m\u001b[0;34m\u001b[0m\u001b[0m\n\u001b[0;32m---> 45\u001b[0;31m         \u001b[0mcdata\u001b[0m \u001b[0;34m=\u001b[0m \u001b[0mfunction\u001b[0m\u001b[0;34m(\u001b[0m\u001b[0;34m*\u001b[0m\u001b[0margs\u001b[0m\u001b[0;34m,\u001b[0m \u001b[0;34m**\u001b[0m\u001b[0mkwargs\u001b[0m\u001b[0;34m)\u001b[0m\u001b[0;34m\u001b[0m\u001b[0;34m\u001b[0m\u001b[0m\n\u001b[0m\u001b[1;32m     46\u001b[0m         \u001b[0;31m# TODO: test cdata is of the expected CType\u001b[0m\u001b[0;34m\u001b[0m\u001b[0;34m\u001b[0m\u001b[0;34m\u001b[0m\u001b[0m\n",
            "\u001b[0;32m/usr/local/lib/python3.7/dist-packages/rpy2/rinterface.py\u001b[0m in \u001b[0;36m__call__\u001b[0;34m(self, *args, **kwargs)\u001b[0m\n\u001b[1;32m    679\u001b[0m             \u001b[0;32mif\u001b[0m \u001b[0merror_occured\u001b[0m\u001b[0;34m[\u001b[0m\u001b[0;36m0\u001b[0m\u001b[0;34m]\u001b[0m\u001b[0;34m:\u001b[0m\u001b[0;34m\u001b[0m\u001b[0;34m\u001b[0m\u001b[0m\n\u001b[0;32m--> 680\u001b[0;31m                 \u001b[0;32mraise\u001b[0m \u001b[0membedded\u001b[0m\u001b[0;34m.\u001b[0m\u001b[0mRRuntimeError\u001b[0m\u001b[0;34m(\u001b[0m\u001b[0m_rinterface\u001b[0m\u001b[0;34m.\u001b[0m\u001b[0m_geterrmessage\u001b[0m\u001b[0;34m(\u001b[0m\u001b[0;34m)\u001b[0m\u001b[0;34m)\u001b[0m\u001b[0;34m\u001b[0m\u001b[0;34m\u001b[0m\u001b[0m\n\u001b[0m\u001b[1;32m    681\u001b[0m         \u001b[0;32mreturn\u001b[0m \u001b[0mres\u001b[0m\u001b[0;34m\u001b[0m\u001b[0;34m\u001b[0m\u001b[0m\n",
            "\u001b[0;31mRRuntimeError\u001b[0m: Error in read_xpt(\"/content/drive/My Drive/datasets/adsl.xpt\") : \n  could not find function \"read_xpt\"\n",
            "\nDuring handling of the above exception, another exception occurred:\n",
            "\u001b[0;31mRInterpreterError\u001b[0m                         Traceback (most recent call last)",
            "\u001b[0;32m<ipython-input-67-0f856e66a44c>\u001b[0m in \u001b[0;36m<module>\u001b[0;34m()\u001b[0m\n\u001b[0;32m----> 1\u001b[0;31m \u001b[0mget_ipython\u001b[0m\u001b[0;34m(\u001b[0m\u001b[0;34m)\u001b[0m\u001b[0;34m.\u001b[0m\u001b[0mrun_cell_magic\u001b[0m\u001b[0;34m(\u001b[0m\u001b[0;34m'R'\u001b[0m\u001b[0;34m,\u001b[0m \u001b[0;34m''\u001b[0m\u001b[0;34m,\u001b[0m \u001b[0;34m\"adsl <- read_xpt('/content/drive/My Drive/datasets/adsl.xpt')\"\u001b[0m\u001b[0;34m)\u001b[0m\u001b[0;34m\u001b[0m\u001b[0;34m\u001b[0m\u001b[0m\n\u001b[0m",
            "\u001b[0;32m/usr/local/lib/python3.7/dist-packages/IPython/core/interactiveshell.py\u001b[0m in \u001b[0;36mrun_cell_magic\u001b[0;34m(self, magic_name, line, cell)\u001b[0m\n\u001b[1;32m   2115\u001b[0m             \u001b[0mmagic_arg_s\u001b[0m \u001b[0;34m=\u001b[0m \u001b[0mself\u001b[0m\u001b[0;34m.\u001b[0m\u001b[0mvar_expand\u001b[0m\u001b[0;34m(\u001b[0m\u001b[0mline\u001b[0m\u001b[0;34m,\u001b[0m \u001b[0mstack_depth\u001b[0m\u001b[0;34m)\u001b[0m\u001b[0;34m\u001b[0m\u001b[0;34m\u001b[0m\u001b[0m\n\u001b[1;32m   2116\u001b[0m             \u001b[0;32mwith\u001b[0m \u001b[0mself\u001b[0m\u001b[0;34m.\u001b[0m\u001b[0mbuiltin_trap\u001b[0m\u001b[0;34m:\u001b[0m\u001b[0;34m\u001b[0m\u001b[0;34m\u001b[0m\u001b[0m\n\u001b[0;32m-> 2117\u001b[0;31m                 \u001b[0mresult\u001b[0m \u001b[0;34m=\u001b[0m \u001b[0mfn\u001b[0m\u001b[0;34m(\u001b[0m\u001b[0mmagic_arg_s\u001b[0m\u001b[0;34m,\u001b[0m \u001b[0mcell\u001b[0m\u001b[0;34m)\u001b[0m\u001b[0;34m\u001b[0m\u001b[0;34m\u001b[0m\u001b[0m\n\u001b[0m\u001b[1;32m   2118\u001b[0m             \u001b[0;32mreturn\u001b[0m \u001b[0mresult\u001b[0m\u001b[0;34m\u001b[0m\u001b[0;34m\u001b[0m\u001b[0m\n\u001b[1;32m   2119\u001b[0m \u001b[0;34m\u001b[0m\u001b[0m\n",
            "\u001b[0;32m<decorator-gen-119>\u001b[0m in \u001b[0;36mR\u001b[0;34m(self, line, cell, local_ns)\u001b[0m\n",
            "\u001b[0;32m/usr/local/lib/python3.7/dist-packages/IPython/core/magic.py\u001b[0m in \u001b[0;36m<lambda>\u001b[0;34m(f, *a, **k)\u001b[0m\n\u001b[1;32m    186\u001b[0m     \u001b[0;31m# but it's overkill for just that one bit of state.\u001b[0m\u001b[0;34m\u001b[0m\u001b[0;34m\u001b[0m\u001b[0;34m\u001b[0m\u001b[0m\n\u001b[1;32m    187\u001b[0m     \u001b[0;32mdef\u001b[0m \u001b[0mmagic_deco\u001b[0m\u001b[0;34m(\u001b[0m\u001b[0marg\u001b[0m\u001b[0;34m)\u001b[0m\u001b[0;34m:\u001b[0m\u001b[0;34m\u001b[0m\u001b[0;34m\u001b[0m\u001b[0m\n\u001b[0;32m--> 188\u001b[0;31m         \u001b[0mcall\u001b[0m \u001b[0;34m=\u001b[0m \u001b[0;32mlambda\u001b[0m \u001b[0mf\u001b[0m\u001b[0;34m,\u001b[0m \u001b[0;34m*\u001b[0m\u001b[0ma\u001b[0m\u001b[0;34m,\u001b[0m \u001b[0;34m**\u001b[0m\u001b[0mk\u001b[0m\u001b[0;34m:\u001b[0m \u001b[0mf\u001b[0m\u001b[0;34m(\u001b[0m\u001b[0;34m*\u001b[0m\u001b[0ma\u001b[0m\u001b[0;34m,\u001b[0m \u001b[0;34m**\u001b[0m\u001b[0mk\u001b[0m\u001b[0;34m)\u001b[0m\u001b[0;34m\u001b[0m\u001b[0;34m\u001b[0m\u001b[0m\n\u001b[0m\u001b[1;32m    189\u001b[0m \u001b[0;34m\u001b[0m\u001b[0m\n\u001b[1;32m    190\u001b[0m         \u001b[0;32mif\u001b[0m \u001b[0mcallable\u001b[0m\u001b[0;34m(\u001b[0m\u001b[0marg\u001b[0m\u001b[0;34m)\u001b[0m\u001b[0;34m:\u001b[0m\u001b[0;34m\u001b[0m\u001b[0;34m\u001b[0m\u001b[0m\n",
            "\u001b[0;32m/usr/local/lib/python3.7/dist-packages/rpy2/ipython/rmagic.py\u001b[0m in \u001b[0;36mR\u001b[0;34m(self, line, cell, local_ns)\u001b[0m\n\u001b[1;32m    781\u001b[0m             \u001b[0;32mif\u001b[0m \u001b[0;32mnot\u001b[0m \u001b[0me\u001b[0m\u001b[0;34m.\u001b[0m\u001b[0mstdout\u001b[0m\u001b[0;34m.\u001b[0m\u001b[0mendswith\u001b[0m\u001b[0;34m(\u001b[0m\u001b[0me\u001b[0m\u001b[0;34m.\u001b[0m\u001b[0merr\u001b[0m\u001b[0;34m)\u001b[0m\u001b[0;34m:\u001b[0m\u001b[0;34m\u001b[0m\u001b[0;34m\u001b[0m\u001b[0m\n\u001b[1;32m    782\u001b[0m                 \u001b[0mprint\u001b[0m\u001b[0;34m(\u001b[0m\u001b[0me\u001b[0m\u001b[0;34m.\u001b[0m\u001b[0merr\u001b[0m\u001b[0;34m)\u001b[0m\u001b[0;34m\u001b[0m\u001b[0;34m\u001b[0m\u001b[0m\n\u001b[0;32m--> 783\u001b[0;31m             \u001b[0;32mraise\u001b[0m \u001b[0me\u001b[0m\u001b[0;34m\u001b[0m\u001b[0;34m\u001b[0m\u001b[0m\n\u001b[0m\u001b[1;32m    784\u001b[0m         \u001b[0;32mfinally\u001b[0m\u001b[0;34m:\u001b[0m\u001b[0;34m\u001b[0m\u001b[0;34m\u001b[0m\u001b[0m\n\u001b[1;32m    785\u001b[0m             \u001b[0;32mif\u001b[0m \u001b[0mself\u001b[0m\u001b[0;34m.\u001b[0m\u001b[0mdevice\u001b[0m \u001b[0;32min\u001b[0m \u001b[0;34m[\u001b[0m\u001b[0;34m'png'\u001b[0m\u001b[0;34m,\u001b[0m \u001b[0;34m'svg'\u001b[0m\u001b[0;34m]\u001b[0m\u001b[0;34m:\u001b[0m\u001b[0;34m\u001b[0m\u001b[0;34m\u001b[0m\u001b[0m\n",
            "\u001b[0;32m/usr/local/lib/python3.7/dist-packages/rpy2/ipython/rmagic.py\u001b[0m in \u001b[0;36mR\u001b[0;34m(self, line, cell, local_ns)\u001b[0m\n\u001b[1;32m    761\u001b[0m                     \u001b[0mreturn_output\u001b[0m \u001b[0;34m=\u001b[0m \u001b[0;32mFalse\u001b[0m\u001b[0;34m\u001b[0m\u001b[0;34m\u001b[0m\u001b[0m\n\u001b[1;32m    762\u001b[0m             \u001b[0;32melse\u001b[0m\u001b[0;34m:\u001b[0m\u001b[0;34m\u001b[0m\u001b[0;34m\u001b[0m\u001b[0m\n\u001b[0;32m--> 763\u001b[0;31m                 \u001b[0mtext_result\u001b[0m\u001b[0;34m,\u001b[0m \u001b[0mresult\u001b[0m\u001b[0;34m,\u001b[0m \u001b[0mvisible\u001b[0m \u001b[0;34m=\u001b[0m \u001b[0mself\u001b[0m\u001b[0;34m.\u001b[0m\u001b[0meval\u001b[0m\u001b[0;34m(\u001b[0m\u001b[0mcode\u001b[0m\u001b[0;34m)\u001b[0m\u001b[0;34m\u001b[0m\u001b[0;34m\u001b[0m\u001b[0m\n\u001b[0m\u001b[1;32m    764\u001b[0m                 \u001b[0mtext_output\u001b[0m \u001b[0;34m+=\u001b[0m \u001b[0mtext_result\u001b[0m\u001b[0;34m\u001b[0m\u001b[0;34m\u001b[0m\u001b[0m\n\u001b[1;32m    765\u001b[0m                 \u001b[0;32mif\u001b[0m \u001b[0mvisible\u001b[0m\u001b[0;34m:\u001b[0m\u001b[0;34m\u001b[0m\u001b[0;34m\u001b[0m\u001b[0m\n",
            "\u001b[0;32m/usr/local/lib/python3.7/dist-packages/rpy2/ipython/rmagic.py\u001b[0m in \u001b[0;36meval\u001b[0;34m(self, code)\u001b[0m\n\u001b[1;32m    271\u001b[0m                 \u001b[0mwarning_or_other_msg\u001b[0m \u001b[0;34m=\u001b[0m \u001b[0mself\u001b[0m\u001b[0;34m.\u001b[0m\u001b[0mflush\u001b[0m\u001b[0;34m(\u001b[0m\u001b[0;34m)\u001b[0m\u001b[0;34m\u001b[0m\u001b[0;34m\u001b[0m\u001b[0m\n\u001b[1;32m    272\u001b[0m                 raise RInterpreterError(code, str(exception),\n\u001b[0;32m--> 273\u001b[0;31m                                         warning_or_other_msg)\n\u001b[0m\u001b[1;32m    274\u001b[0m             \u001b[0mtext_output\u001b[0m \u001b[0;34m=\u001b[0m \u001b[0mself\u001b[0m\u001b[0;34m.\u001b[0m\u001b[0mflush\u001b[0m\u001b[0;34m(\u001b[0m\u001b[0;34m)\u001b[0m\u001b[0;34m\u001b[0m\u001b[0;34m\u001b[0m\u001b[0m\n\u001b[1;32m    275\u001b[0m             \u001b[0;32mreturn\u001b[0m \u001b[0mtext_output\u001b[0m\u001b[0;34m,\u001b[0m \u001b[0mvalue\u001b[0m\u001b[0;34m,\u001b[0m \u001b[0mvisible\u001b[0m\u001b[0;34m[\u001b[0m\u001b[0;36m0\u001b[0m\u001b[0;34m]\u001b[0m\u001b[0;34m\u001b[0m\u001b[0;34m\u001b[0m\u001b[0m\n",
            "\u001b[0;31mRInterpreterError\u001b[0m: Failed to parse and evaluate line \"adsl <- read_xpt('/content/drive/My Drive/datasets/adsl.xpt')\".\nR error message: 'Error in read_xpt(\"/content/drive/My Drive/datasets/adsl.xpt\") : \\n  could not find function \"read_xpt\"'"
          ]
        }
      ]
    },
    {
      "cell_type": "code",
      "source": [
        "##https://stackoverflow.com/questions/66430209/running-rstudio-on-google-colab\n",
        "##https://rpy2.github.io/doc/latest/html/introduction.html#r-packages\n",
        "import rpy2.robjects as robjects\n",
        "\n",
        "import rpy2\n",
        "print(rpy2.__version__)"
      ],
      "metadata": {
        "id": "qFCeBltvPBAg"
      },
      "execution_count": null,
      "outputs": []
    },
    {
      "cell_type": "code",
      "source": [
        "from rpy2.robjects.packages import importr\n",
        "# import R's \"base\" package\n",
        "base = importr('base')\n",
        "\n",
        "# import R's \"utils\" package\n",
        "utils = importr('utils')"
      ],
      "metadata": {
        "id": "iudzGBncP44U"
      },
      "execution_count": null,
      "outputs": []
    },
    {
      "cell_type": "code",
      "source": [
        "# import rpy2's package module\n",
        "import rpy2.robjects.packages as rpackages\n",
        "\n",
        "# import R's utility package\n",
        "utils = rpackages.importr('utils')\n",
        "\n",
        "# select a mirror for R packages\n",
        "utils.chooseCRANmirror(ind=1) # select the first mirror in the list\n",
        "\n",
        "# R package names\n",
        "packnames = ('ggplot2', 'hexbin' 'dplyr' 'xportr' , 'SASxport' )\n",
        "\n",
        "# R vector of strings\n",
        "from rpy2.robjects.vectors import StrVector\n",
        "\n",
        "# Selectively install what needs to be install.\n",
        "# We are fancy, just because we can.\n",
        "names_to_install = [x for x in packnames if not rpackages.isinstalled(x)]\n",
        "if len(names_to_install) > 0:\n",
        "    utils.install_packages(StrVector(names_to_install))"
      ],
      "metadata": {
        "id": "gPajYDpDQR6q"
      },
      "execution_count": null,
      "outputs": []
    },
    {
      "cell_type": "code",
      "source": [
        "##https://songjoyce.medium.com/google-colab-101-using-both-r-python-f04eca03e6b5\n",
        "\n",
        "%load_ext rpy2.ipython\n",
        "\n"
      ],
      "metadata": {
        "id": "9xBj1x5dYNGX"
      },
      "execution_count": null,
      "outputs": []
    },
    {
      "cell_type": "code",
      "source": [
        "from rpy2.robjects.packages import importr\n",
        "utils = importr('utils')\n",
        "\n",
        "dataf = utils.read_csv('https://raw.githubusercontent.com/jakevdp/PythonDataScienceHandbook/'\n",
        "                       'master/notebooks/data/california_cities.csv')"
      ],
      "metadata": {
        "id": "I_IIkqbFYrrU"
      },
      "execution_count": null,
      "outputs": []
    },
    {
      "cell_type": "code",
      "source": [
        "import rpy2.ipython.html\n",
        "rpy2.ipython.html.init_printing()\n",
        "dataf"
      ],
      "metadata": {
        "id": "PejnhnQzZoRN"
      },
      "execution_count": null,
      "outputs": []
    },
    {
      "cell_type": "code",
      "source": [
        "# activate R magic\n",
        "%load_ext rpy2.ipython"
      ],
      "metadata": {
        "id": "NjwbqH7ylchx"
      },
      "execution_count": null,
      "outputs": []
    },
    {
      "cell_type": "code",
      "source": [
        "%%R\n",
        "x <- 42\n",
        "print(x)"
      ],
      "metadata": {
        "id": "mT3NMhpWle9F"
      },
      "execution_count": null,
      "outputs": []
    },
    {
      "cell_type": "code",
      "source": [
        "%%R\n",
        "install.packages('dplyr')\n",
        "install.packages('haven')\n",
        "install.packages('ggplot2')\n"
      ],
      "metadata": {
        "id": "k1k9TKdplyCo"
      },
      "execution_count": null,
      "outputs": []
    },
    {
      "cell_type": "code",
      "source": [
        "%%R\n",
        "data(package = \"dplyr\")"
      ],
      "metadata": {
        "id": "fpZHzsFsv-Tu"
      },
      "execution_count": null,
      "outputs": []
    },
    {
      "cell_type": "code",
      "source": [
        "import pandas as pd\n",
        "pandasdf = pd.read_csv(\"/content/sample_data/california_housing_train.csv\")\n",
        "sasdf = sas.df2sd(pandasdf, 'sasdf')\n",
        "sas.submitLST(\"proc print data=work.sasdf (obs=5);run;\", method='listorlog')"
      ],
      "metadata": {
        "id": "WYGlmvBdwrgB"
      },
      "execution_count": null,
      "outputs": []
    },
    {
      "cell_type": "code",
      "source": [
        "\n",
        "\n",
        "\"\"\"\n",
        "Read five NHANES data files using Pandas and merge them into a 2d array.\n",
        "\n",
        "This value can be exported:\n",
        "\n",
        "Z : a Pandas data frame containing all the data\n",
        "\"\"\"\n",
        "\n",
        "## Data file names (the files are in ../Data)\n",
        "FN = [\"DEMO_F.XPT\", \"BMX_F.XPT\", \"BPX_F.XPT\", \"DR1TOT_F.XPT\", \"DR2TOT_F.XPT\"]"
      ],
      "metadata": {
        "id": "tlXas2uHzuWI"
      },
      "execution_count": null,
      "outputs": []
    },
    {
      "cell_type": "code",
      "source": [
        " \n",
        "import numpy as np\n",
        "import pandas as pd\n",
        " \n",
        " df = pandas.read_sas('filename.XPT')"
      ],
      "metadata": {
        "id": "7OlyFBzH0T_0"
      },
      "execution_count": null,
      "outputs": []
    }
  ]
}